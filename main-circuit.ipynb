{
 "metadata": {
  "language_info": {
   "codemirror_mode": {
    "name": "ipython",
    "version": 3
   },
   "file_extension": ".py",
   "mimetype": "text/x-python",
   "name": "python",
   "nbconvert_exporter": "python",
   "pygments_lexer": "ipython3",
   "version": "3.8.5"
  },
  "orig_nbformat": 4,
  "kernelspec": {
   "name": "python3",
   "display_name": "Python 3.8.5 64-bit ('env')"
  },
  "interpreter": {
   "hash": "e0835d6b7dc51e6effc4a5df3727742fb8758012660295a730f0baf71b6eef04"
  }
 },
 "nbformat": 4,
 "nbformat_minor": 2,
 "cells": [
  {
   "cell_type": "code",
   "execution_count": 1,
   "metadata": {},
   "outputs": [],
   "source": [
    "import os\n",
    "import sys\n",
    "import csv\n",
    "\n",
    "from lib.Google_DistMatrix import Google_DistMatrix\n",
    "from lib.Graph import Graph\n",
    "from lib.Input import Input\n",
    "from lib.Format import Format"
   ]
  },
  {
   "cell_type": "code",
   "execution_count": 2,
   "metadata": {},
   "outputs": [],
   "source": [
    "sys.argv = ['main.py']"
   ]
  },
  {
   "cell_type": "code",
   "execution_count": 3,
   "metadata": {},
   "outputs": [
    {
     "output_type": "stream",
     "name": "stdout",
     "text": [
      "argc=1\n"
     ]
    }
   ],
   "source": [
    "# ===================================================================\n",
    "# =                                                                 =\n",
    "# =                 Verify commandline arguments                    =\n",
    "# =                                                                 =\n",
    "# ===================================================================\n",
    "\n",
    "# check for correct cmd line arguments (\"python3 hamiltonian.py csv_file\")\n",
    "argc = len(sys.argv)\n",
    "print(f\"{argc=}\")\n",
    "if argc == 1: # `python3 main.py`\n",
    "    filename = \"addresses/prospect.csv\"\n",
    "    db_name = \"addresses/example_db.csv\"\n",
    "elif argc == 2: # `python3 main.py {address_csv}`\n",
    "    filename = sys.argv[1]\n",
    "    db_name = \"addresses/example_db.csv\"\n",
    "elif argc == 3: # `python3 main.py {address_csv} {db_csv}`\n",
    "    filename = sys.argv[1]\n",
    "    db_name = sys.argv[2]\n",
    "else:\n",
    "    print(\"Format: python3 main.py {address_csv} {db_csv}\")\n",
    "    exit(1)"
   ]
  },
  {
   "cell_type": "code",
   "execution_count": 4,
   "metadata": {},
   "outputs": [],
   "source": [
    "# ===================================================================\n",
    "# =                                                                 =\n",
    "# =                      Initialise variables                       =\n",
    "# =                                                                 =\n",
    "# ===================================================================\n",
    "API_KEY = os.environ.get(\"DISTANCE_MATRIX_API_KEY\",'') # API_KEY\n",
    "DM = Google_DistMatrix(API_KEY) # Initialise Google Distance Matrix API\n",
    "database = {} # database of addresses and users\n",
    "\n",
    "# key mappings\n",
    "i_name = 0\n",
    "i_zid = 1\n",
    "i_email = 2\n",
    "i_phone = 3\n",
    "i_order_beige = 4\n",
    "i_order_rose = 5\n",
    "i_order_shirt = 6\n",
    "i_order_champ = 7\n",
    "i_address = 8\n",
    "i_suburb = 9"
   ]
  },
  {
   "cell_type": "code",
   "execution_count": 5,
   "metadata": {},
   "outputs": [
    {
     "output_type": "stream",
     "name": "stdout",
     "text": [
      "addresses_param_str='1+Myrtle+Street,Prospect+NSW+2148|12+Union+St,Luthgow+NSW+2790|11+Sloggetts+Road,\"+Norway+NSW+2787\"|'\n"
     ]
    }
   ],
   "source": [
    "# ===================================================================\n",
    "# =                                                                 =\n",
    "# =                      Read input from CSV                        =\n",
    "# =                                                                 =\n",
    "# ===================================================================\n",
    "addresses_param_str,address_list = Input.retrieve_addresses(filename)\n",
    "\n",
    "print(f\"{addresses_param_str=}\")"
   ]
  },
  {
   "cell_type": "code",
   "execution_count": 6,
   "metadata": {},
   "outputs": [
    {
     "output_type": "stream",
     "name": "stdout",
     "text": [
      "find_path_return={'destination_addresses': ['1 Myrtle St, Prospect NSW 2148, Australia', '12 Union St, Lithgow NSW 2790, Australia', '11 Sloggetts Rd, Norway NSW 2787, Australia'], 'origin_addresses': ['1 Myrtle St, Prospect NSW 2148, Australia', '12 Union St, Lithgow NSW 2790, Australia', '11 Sloggetts Rd, Norway NSW 2787, Australia'], 'rows': [{'elements': [{'distance': {'text': '1 m', 'value': 0}, 'duration': {'text': '1 min', 'value': 0}, 'status': 'OK'}, {'distance': {'text': '108 km', 'value': 107656}, 'duration': {'text': '1 hour 37 mins', 'value': 5808}, 'status': 'OK'}, {'distance': {'text': '156 km', 'value': 156310}, 'duration': {'text': '2 hours 16 mins', 'value': 8143}, 'status': 'OK'}]}, {'elements': [{'distance': {'text': '107 km', 'value': 107279}, 'duration': {'text': '1 hour 37 mins', 'value': 5822}, 'status': 'OK'}, {'distance': {'text': '1 m', 'value': 0}, 'duration': {'text': '1 min', 'value': 0}, 'status': 'OK'}, {'distance': {'text': '62.8 km', 'value': 62821}, 'duration': {'text': '59 mins', 'value': 3563}, 'status': 'OK'}]}, {'elements': [{'distance': {'text': '156 km', 'value': 155951}, 'duration': {'text': '2 hours 16 mins', 'value': 8148}, 'status': 'OK'}, {'distance': {'text': '62.8 km', 'value': 62832}, 'duration': {'text': '59 mins', 'value': 3517}, 'status': 'OK'}, {'distance': {'text': '1 m', 'value': 0}, 'duration': {'text': '1 min', 'value': 0}, 'status': 'OK'}]}], 'status': 'OK'}\n"
     ]
    }
   ],
   "source": [
    "# ===================================================================\n",
    "# =                                                                 =\n",
    "# =                 GET matrix from Google Maps API                 =\n",
    "# =                                                                 =\n",
    "# ===================================================================\n",
    "\n",
    "path_matrix = DM.get_matrix(addresses_param_str)\n",
    "print(f\"{path_matrix=}\")\n",
    "\n",
    "if path_matrix['status'] != 'OK':\n",
    "    print(\"Error: \", path_matrix['status'])\n",
    "    exit(1)"
   ]
  },
  {
   "cell_type": "code",
   "execution_count": 7,
   "metadata": {},
   "outputs": [
    {
     "output_type": "stream",
     "name": "stdout",
     "text": [
      "line=['James A', 'z5123456', 'james@gmail.com', '0411111111', 'L', 'M', '', '', '1 Myrtle Street, Prospect NSW 2148', 'prospect']\nline=['Alex A', 'z5123456', 'alex@gmail.com', '0422222222', '', 'S', 'L', '', '12 Union St, Luthgow NSW 2790', 'prospect']\nline=['Jimbo A', 'z5123456', 'jimbo@gmail.com', '0433333333', '', 'L', '', 'L', '11 Sloggetts Road, Norway NSW 2787', 'prospect']\n======================= DB ======================\n{}\n======================= ========== ======================\n"
     ]
    }
   ],
   "source": [
    "# ===================================================================\n",
    "# =                                                                 =\n",
    "# =                 Populate users+address database                 =\n",
    "# =                                                                 =\n",
    "# ===================================================================\n",
    "\n",
    "with open(db_name) as tsv:\n",
    "    first_line_passed = False\n",
    "    for line in csv.reader(tsv, dialect=\"excel-tab\"):\n",
    "        if not first_line_passed:\n",
    "            first_line_passed = True\n",
    "            continue\n",
    "        print(f\"{line=}\")\n",
    "        f_name = filename[:-4] # remove \".csv\"\n",
    "        suburb = f_name.split(\"/\")[1].split(\"_\")[0]\n",
    "    \n",
    "        # store only if suburb matches file called\n",
    "        if line[i_suburb] != suburb:\n",
    "            print(suburb)\n",
    "            print(line[i_suburb])\n",
    "            continue\n",
    "            \n",
    "        row = {}\n",
    "        row[\"name\"] = line[i_name]\n",
    "        row[\"zid\"] = line[i_zid]\n",
    "        row[\"email\"] = line[i_email]\n",
    "        row[\"phone\"] = line[i_phone]\n",
    "        row[\"order_beige\"] = line[i_order_beige]\n",
    "        row[\"order_rose\"] = line[i_order_rose]\n",
    "        row[\"order_shirt\"] = line[i_order_shirt]\n",
    "        row[\"order_champ\"] = line[i_order_champ]\n",
    "        row[\"human_address\"] = line[i_address]\n",
    "        row[\"suburb\"] = line[i_suburb]\n",
    "        \n",
    "        # get index of human_input\n",
    "        addr_index = 0\n",
    "        # print(\"searching for \", line[i_address])\n",
    "        for a in address_list:\n",
    "            if a == line[i_address]:\n",
    "                break\n",
    "            addr_index += 1\n",
    "            \n",
    "        # if address not found, don't store\n",
    "        if addr_index == len(address_list):\n",
    "            # print(\"address not found\")\n",
    "            # print(\"addresses_list = \", addresses_list)\n",
    "            # print(\"line[i_address] = \", line[i_address])\n",
    "            continue\n",
    "        # print(addr_index)\n",
    "        # print(addresses_list)\n",
    "        # match that with index of API response\n",
    "        # print(find_path_return['destination_addresses'])\n",
    "        row[\"API_address\"] = path_matrix['destination_addresses'][addr_index]\n",
    "        \n",
    "        database[path_matrix['destination_addresses'][addr_index]] = row\n",
    "        \n",
    "        # print(row)\n",
    "        \n",
    "\n",
    "print(\"======================= DB ======================\")\n",
    "print(database)\n",
    "print(\"======================= ========== ======================\")"
   ]
  },
  {
   "cell_type": "code",
   "execution_count": 8,
   "metadata": {},
   "outputs": [],
   "source": [
    "# ===================================================================\n",
    "# =                                                                 =\n",
    "# =                 Generate Graph for addresses                    =\n",
    "# =                                                                 =\n",
    "# ===================================================================\n",
    "G1 = Graph(path_matrix[\"destination_addresses\"])\n",
    "\n",
    "# ===================================================================\n",
    "# =                                                                 =\n",
    "# =                 Populate graph with data                        =\n",
    "# =                                                                 =\n",
    "# ===================================================================\n",
    "\n",
    "# ===== UNCOMMENT DEPENDING ON DISTANCE OR TIME =====\n",
    "# G1.graph = matrix_by_distance(path_matrix)\n",
    "G1.graph = DM.matrix_by_time(path_matrix)\n",
    "# ==================================================="
   ]
  },
  {
   "cell_type": "code",
   "execution_count": 9,
   "metadata": {},
   "outputs": [
    {
     "output_type": "stream",
     "name": "stdout",
     "text": [
      "==================== FINAL ROUTE =================\nETA =  2 hours, 36 minutes\nNumber of stops =  3\n"
     ]
    },
    {
     "output_type": "error",
     "ename": "KeyError",
     "evalue": "'1 Myrtle St, Prospect NSW 2148, Australia'",
     "traceback": [
      "\u001b[0;31m---------------------------------------------------------------------------\u001b[0m",
      "\u001b[0;31mKeyError\u001b[0m                                  Traceback (most recent call last)",
      "\u001b[0;32m/tmp/ipykernel_35079/250959777.py\u001b[0m in \u001b[0;36m<module>\u001b[0;34m\u001b[0m\n\u001b[1;32m     11\u001b[0m \u001b[0;31m# =                                                                 =\u001b[0m\u001b[0;34m\u001b[0m\u001b[0;34m\u001b[0m\u001b[0;34m\u001b[0m\u001b[0m\n\u001b[1;32m     12\u001b[0m \u001b[0;31m# ===================================================================\u001b[0m\u001b[0;34m\u001b[0m\u001b[0;34m\u001b[0m\u001b[0;34m\u001b[0m\u001b[0m\n\u001b[0;32m---> 13\u001b[0;31m \u001b[0mFormat\u001b[0m\u001b[0;34m.\u001b[0m\u001b[0mprint_final_route\u001b[0m\u001b[0;34m(\u001b[0m\u001b[0mpath\u001b[0m\u001b[0;34m,\u001b[0m \u001b[0mfind_path_return\u001b[0m\u001b[0;34m[\u001b[0m\u001b[0;34m\"destination_addresses\"\u001b[0m\u001b[0;34m]\u001b[0m\u001b[0;34m,\u001b[0m \u001b[0mtrip_time\u001b[0m\u001b[0;34m,\u001b[0m \u001b[0mdatabase\u001b[0m\u001b[0;34m)\u001b[0m\u001b[0;34m\u001b[0m\u001b[0;34m\u001b[0m\u001b[0m\n\u001b[0m",
      "\u001b[0;32m~/Documents/projects/hermes/lib/Format.py\u001b[0m in \u001b[0;36mprint_final_route\u001b[0;34m(path, addr_list, trip_time, database)\u001b[0m\n\u001b[1;32m     38\u001b[0m \u001b[0;34m\u001b[0m\u001b[0m\n\u001b[1;32m     39\u001b[0m             \u001b[0mAPI_addy\u001b[0m \u001b[0;34m=\u001b[0m \u001b[0maddr_list\u001b[0m\u001b[0;34m[\u001b[0m\u001b[0mv\u001b[0m\u001b[0;34m]\u001b[0m\u001b[0;34m\u001b[0m\u001b[0;34m\u001b[0m\u001b[0m\n\u001b[0;32m---> 40\u001b[0;31m             \u001b[0mdetails\u001b[0m \u001b[0;34m=\u001b[0m \u001b[0mdatabase\u001b[0m\u001b[0;34m[\u001b[0m\u001b[0mAPI_addy\u001b[0m\u001b[0;34m]\u001b[0m\u001b[0;34m\u001b[0m\u001b[0;34m\u001b[0m\u001b[0m\n\u001b[0m\u001b[1;32m     41\u001b[0m             \u001b[0;31m# address - name - order - mobile\u001b[0m\u001b[0;34m\u001b[0m\u001b[0;34m\u001b[0m\u001b[0;34m\u001b[0m\u001b[0m\n\u001b[1;32m     42\u001b[0m             \u001b[0moutput_str\u001b[0m \u001b[0;34m=\u001b[0m \u001b[0;34m\"{} - {} - Ordered[\"\u001b[0m\u001b[0;34m.\u001b[0m\u001b[0mformat\u001b[0m\u001b[0;34m(\u001b[0m\u001b[0mAPI_addy\u001b[0m\u001b[0;34m,\u001b[0m\u001b[0mdetails\u001b[0m\u001b[0;34m[\u001b[0m\u001b[0;34m\"name\"\u001b[0m\u001b[0;34m]\u001b[0m\u001b[0;34m)\u001b[0m\u001b[0;34m\u001b[0m\u001b[0;34m\u001b[0m\u001b[0m\n",
      "\u001b[0;31mKeyError\u001b[0m: '1 Myrtle St, Prospect NSW 2148, Australia'"
     ]
    }
   ],
   "source": [
    "# ===================================================================\n",
    "# =                                                                 =\n",
    "# =               Solve for optimal hamiltonian circuit             =\n",
    "# =                                                                 =\n",
    "# ===================================================================\n",
    "path,trip_time = G1.solve()\n",
    "\n",
    "# ===================================================================\n",
    "# =                                                                 =\n",
    "# =                      Print finalised route                      =\n",
    "# =                                                                 =\n",
    "# ===================================================================\n",
    "Format.print_final_route(path, path_matrix[\"destination_addresses\"], trip_time, database)"
   ]
  },
  {
   "cell_type": "code",
   "execution_count": null,
   "metadata": {},
   "outputs": [],
   "source": []
  }
 ]
}